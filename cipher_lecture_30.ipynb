{
  "nbformat": 4,
  "nbformat_minor": 0,
  "metadata": {
    "colab": {
      "provenance": [],
      "authorship_tag": "ABX9TyMB3F7LLy7vJu+hBsuUWIfz",
      "include_colab_link": true
    },
    "kernelspec": {
      "name": "python3",
      "display_name": "Python 3"
    },
    "language_info": {
      "name": "python"
    }
  },
  "cells": [
    {
      "cell_type": "markdown",
      "metadata": {
        "id": "view-in-github",
        "colab_type": "text"
      },
      "source": [
        "<a href=\"https://colab.research.google.com/github/Vidushi2601/CipherSchools-DataSci-ML-Hybrid/blob/main/cipher_lecture_30.ipynb\" target=\"_parent\"><img src=\"https://colab.research.google.com/assets/colab-badge.svg\" alt=\"Open In Colab\"/></a>"
      ]
    },
    {
      "cell_type": "markdown",
      "source": [
        "Linear Regression"
      ],
      "metadata": {
        "id": "ydVke4xBYmSc"
      }
    },
    {
      "cell_type": "code",
      "source": [
        "from sklearn.model_selection import train_test_split\n",
        "from sklearn.linear_model import LinearRegression\n",
        "from sklearn.metrics import mean_squared_error\n",
        "\n",
        "#Generating synthetic data\n",
        "import numpy as np\n",
        "x=np.random.rand(100,1)*10\n",
        "y=2.5*x+np.random.randn(100,1)*2\n",
        "\n",
        "#Splitting data into training and testing sets\n",
        "x_train,x_test,y_train,y_test=train_test_split(x,y,test_size=0.2,random_state=42)\n",
        "\n",
        "#Training the model\n",
        "model=LinearRegression()\n",
        "model.fit(x_train,y_train)\n",
        "\n",
        "y_pred=model.predict(x_test)\n",
        "\n",
        "#Evaluating the model\n",
        "mse=mean_squared_error(y_test,y_pred)\n",
        "print(f'Mean_Squared Error: {mse}')"
      ],
      "metadata": {
        "colab": {
          "base_uri": "https://localhost:8080/"
        },
        "id": "F1rRlsr0Yll1",
        "outputId": "7b153d06-3b62-448f-f888-49540b515f3c"
      },
      "execution_count": 6,
      "outputs": [
        {
          "output_type": "stream",
          "name": "stdout",
          "text": [
            "Mean_Squared Error: 4.008289266442838\n"
          ]
        }
      ]
    },
    {
      "cell_type": "code",
      "execution_count": 7,
      "metadata": {
        "id": "1OB70nGZs9XO",
        "colab": {
          "base_uri": "https://localhost:8080/"
        },
        "outputId": "19b05635-ae69-4d44-8f47-40b06140577a"
      },
      "outputs": [
        {
          "output_type": "execute_result",
          "data": {
            "text/plain": [
              "array([[20.58156439],\n",
              "       [22.88839121],\n",
              "       [11.9464921 ],\n",
              "       [22.78307705],\n",
              "       [21.45568714],\n",
              "       [-0.22346525],\n",
              "       [24.70954112],\n",
              "       [15.71199433],\n",
              "       [ 1.45924644],\n",
              "       [ 8.07796532],\n",
              "       [ 3.14535535],\n",
              "       [ 3.84154969],\n",
              "       [19.24134879],\n",
              "       [13.66445744],\n",
              "       [13.10432212],\n",
              "       [11.75790051],\n",
              "       [10.9667574 ],\n",
              "       [20.45042268],\n",
              "       [ 0.36702168],\n",
              "       [11.47903229]])"
            ]
          },
          "metadata": {},
          "execution_count": 7
        }
      ],
      "source": [
        "y_pred"
      ]
    },
    {
      "cell_type": "code",
      "source": [
        "y_test"
      ],
      "metadata": {
        "colab": {
          "base_uri": "https://localhost:8080/"
        },
        "id": "DnE092Fyc0TI",
        "outputId": "13e9987d-ebb3-4df9-ff53-405a6dfa346f"
      },
      "execution_count": 8,
      "outputs": [
        {
          "output_type": "execute_result",
          "data": {
            "text/plain": [
              "array([[19.27329595],\n",
              "       [23.42892896],\n",
              "       [13.00491424],\n",
              "       [17.38492336],\n",
              "       [20.76885587],\n",
              "       [-2.39888008],\n",
              "       [27.40235705],\n",
              "       [17.04223123],\n",
              "       [ 0.61926566],\n",
              "       [ 9.135892  ],\n",
              "       [ 1.0714871 ],\n",
              "       [ 4.2704722 ],\n",
              "       [17.18796454],\n",
              "       [11.39546222],\n",
              "       [11.62974998],\n",
              "       [12.6864    ],\n",
              "       [ 8.71680839],\n",
              "       [21.16878533],\n",
              "       [-2.67901283],\n",
              "       [11.8095468 ]])"
            ]
          },
          "metadata": {},
          "execution_count": 8
        }
      ]
    },
    {
      "cell_type": "markdown",
      "source": [
        "Logistic Regression"
      ],
      "metadata": {
        "id": "__2cgGBVf05o"
      }
    },
    {
      "cell_type": "code",
      "source": [
        "from sklearn.datasets import load_iris\n",
        "from sklearn.linear_model import LogisticRegression\n",
        "from sklearn.metrics import accuracy_score\n",
        "\n",
        "#Loading dataset\n",
        "iris=load_iris()\n",
        "x=iris.data\n",
        "y=iris.target\n",
        "\n",
        "#Using only two classes for binary classification\n",
        "x=x[y!=2]\n",
        "y=y[y!=2]\n",
        "\n",
        "#Splitting into train and test\n",
        "x_train,x_test,y_train,y_test=train_test_split(x,y,test_size=0.2,random_state=42)\n",
        "\n",
        "#Training the model\n",
        "model=LogisticRegression()\n",
        "model.fit(x_train,y_train)\n",
        "#Making predictions\n",
        "y_pred=model.predict(x_test)\n",
        "\n",
        "#Evaluating the model\n",
        "accuracy=accuracy_score(y_test,y_pred)\n",
        "print(f'Accuracy: {accuracy}')\n"
      ],
      "metadata": {
        "colab": {
          "base_uri": "https://localhost:8080/"
        },
        "id": "8AzXebTpfy88",
        "outputId": "000ffcd1-fcf3-444e-e51e-1ade83cd2621"
      },
      "execution_count": 10,
      "outputs": [
        {
          "output_type": "stream",
          "name": "stdout",
          "text": [
            "Accuracy: 1.0\n"
          ]
        }
      ]
    },
    {
      "cell_type": "markdown",
      "source": [
        "Decision Tree Classifier"
      ],
      "metadata": {
        "id": "qH8bvzcimbQq"
      }
    },
    {
      "cell_type": "code",
      "source": [
        "from sklearn.tree import DecisionTreeClassifier\n",
        "iris=load_iris()\n",
        "x=iris.data\n",
        "y=iris.target\n",
        "x_train,x_test,y_train,y_test=train_test_split(x,y,test_size=0.2,random_state=42)\n",
        "\n",
        "#Training the model\n",
        "model=DecisionTreeClassifier()\n",
        "model.fit(x_train,y_train)\n",
        "#Making predictions\n",
        "y_pred=model.predict(x_test)\n",
        "\n",
        "#Evaluating the model\n",
        "accuracy=accuracy_score(y_test,y_pred)\n",
        "print(f'Accuracy: {accuracy}')\n"
      ],
      "metadata": {
        "colab": {
          "base_uri": "https://localhost:8080/"
        },
        "id": "p9cGfPgKl2Le",
        "outputId": "076cfb8f-0be0-45d3-e361-fd5a36781a8c"
      },
      "execution_count": 11,
      "outputs": [
        {
          "output_type": "stream",
          "name": "stdout",
          "text": [
            "Accuracy: 1.0\n"
          ]
        }
      ]
    },
    {
      "cell_type": "markdown",
      "source": [
        "Support Vector Machine"
      ],
      "metadata": {
        "id": "mu5T-twLmaSR"
      }
    },
    {
      "cell_type": "code",
      "source": [
        "from sklearn.svm import SVC\n",
        "#Loading dataset\n",
        "iris=load_iris()\n",
        "x=iris.data\n",
        "y=iris.target\n",
        "\n",
        "#Using only two classes for binary classification\n",
        "x=x[y!=2]\n",
        "y=y[y!=2]\n",
        "\n",
        "#Splitting into train and test\n",
        "x_train,x_test,y_train,y_test=train_test_split(x,y,test_size=0.2,random_state=42)\n",
        "\n",
        "#Training the model\n",
        "model=SVC()\n",
        "model.fit(x_train,y_train)\n",
        "#Making predictions\n",
        "y_pred=model.predict(x_test)\n",
        "\n",
        "#Evaluating the model\n",
        "accuracy=accuracy_score(y_test,y_pred)\n",
        "print(f'Accuracy: {accuracy}')"
      ],
      "metadata": {
        "colab": {
          "base_uri": "https://localhost:8080/"
        },
        "id": "4enkM0Jpmh_N",
        "outputId": "5215d63e-6646-490d-b1ba-c5b1eb6d51c8"
      },
      "execution_count": 12,
      "outputs": [
        {
          "output_type": "stream",
          "name": "stdout",
          "text": [
            "Accuracy: 1.0\n"
          ]
        }
      ]
    }
  ]
}