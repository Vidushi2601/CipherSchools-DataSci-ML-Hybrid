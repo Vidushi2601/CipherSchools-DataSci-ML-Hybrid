{
  "nbformat": 4,
  "nbformat_minor": 0,
  "metadata": {
    "colab": {
      "provenance": [],
      "authorship_tag": "ABX9TyNcpcLjNFhzULd4KgmaxZxj",
      "include_colab_link": true
    },
    "kernelspec": {
      "name": "python3",
      "display_name": "Python 3"
    },
    "language_info": {
      "name": "python"
    }
  },
  "cells": [
    {
      "cell_type": "markdown",
      "metadata": {
        "id": "view-in-github",
        "colab_type": "text"
      },
      "source": [
        "<a href=\"https://colab.research.google.com/github/Vidushi2601/CipherSchools-DataSci-ML-Hybrid/blob/main/cipher_lecture_26.ipynb\" target=\"_parent\"><img src=\"https://colab.research.google.com/assets/colab-badge.svg\" alt=\"Open In Colab\"/></a>"
      ]
    },
    {
      "cell_type": "markdown",
      "source": [
        "Data cleaning and normalization\n"
      ],
      "metadata": {
        "id": "Rm8llyV_stlw"
      }
    },
    {
      "cell_type": "code",
      "execution_count": 4,
      "metadata": {
        "colab": {
          "base_uri": "https://localhost:8080/"
        },
        "id": "vWloI5eqssYF",
        "outputId": "480e345c-e804-4b42-ec94-423e0688398e"
      },
      "outputs": [
        {
          "output_type": "stream",
          "name": "stdout",
          "text": [
            "      Name   Age   Salary   Department\n",
            "0    Alice  25.0  50000.0           HR\n",
            "1      Bob  30.0      NaN  Engineering\n",
            "2  Charlie  35.0  70000.0  Engineering\n",
            "3    David   NaN  60000.0           HR\n",
            "4      Eve  28.0  80000.0           HR\n",
            "5    Frank  40.0  55000.0        Sales\n",
            "6    Grace  50.0  85000.0        Sales\n",
            "7     Hank  60.0  90000.0        Sales\n"
          ]
        }
      ],
      "source": [
        "import pandas as pd\n",
        "#load the dataset\n",
        "df=pd.read_csv('samp.csv')\n",
        "print(df)"
      ]
    },
    {
      "cell_type": "markdown",
      "source": [
        "Identifying missing values"
      ],
      "metadata": {
        "id": "6LcwlYlc0LEO"
      }
    },
    {
      "cell_type": "code",
      "source": [
        "#Check for missing values\n",
        "print(df.isnull().sum())"
      ],
      "metadata": {
        "colab": {
          "base_uri": "https://localhost:8080/"
        },
        "id": "PN7XoTXR0OoQ",
        "outputId": "58c73a4c-0621-4166-9265-f8e798d4bc92"
      },
      "execution_count": 5,
      "outputs": [
        {
          "output_type": "stream",
          "name": "stdout",
          "text": [
            "Name          0\n",
            "Age           1\n",
            "Salary        1\n",
            "Department    0\n",
            "dtype: int64\n"
          ]
        }
      ]
    },
    {
      "cell_type": "code",
      "source": [
        "df.info()"
      ],
      "metadata": {
        "colab": {
          "base_uri": "https://localhost:8080/"
        },
        "id": "kUhyujIY0WoS",
        "outputId": "dc0d416e-3ff9-4102-d450-8b076ae76694"
      },
      "execution_count": 6,
      "outputs": [
        {
          "output_type": "stream",
          "name": "stdout",
          "text": [
            "<class 'pandas.core.frame.DataFrame'>\n",
            "RangeIndex: 8 entries, 0 to 7\n",
            "Data columns (total 4 columns):\n",
            " #   Column      Non-Null Count  Dtype  \n",
            "---  ------      --------------  -----  \n",
            " 0   Name        8 non-null      object \n",
            " 1   Age         7 non-null      float64\n",
            " 2   Salary      7 non-null      float64\n",
            " 3   Department  8 non-null      object \n",
            "dtypes: float64(2), object(2)\n",
            "memory usage: 384.0+ bytes\n"
          ]
        }
      ]
    },
    {
      "cell_type": "code",
      "source": [
        "#Removing rows with missing values\n",
        "\n",
        "df_cleaned=df.dropna()\n",
        "print(df_cleaned)"
      ],
      "metadata": {
        "colab": {
          "base_uri": "https://localhost:8080/"
        },
        "id": "gTbZy2Yi0o4L",
        "outputId": "4fa2f28c-210f-425f-d4ba-1f1c9019310b"
      },
      "execution_count": 7,
      "outputs": [
        {
          "output_type": "stream",
          "name": "stdout",
          "text": [
            "      Name   Age   Salary   Department\n",
            "0    Alice  25.0  50000.0           HR\n",
            "2  Charlie  35.0  70000.0  Engineering\n",
            "4      Eve  28.0  80000.0           HR\n",
            "5    Frank  40.0  55000.0        Sales\n",
            "6    Grace  50.0  85000.0        Sales\n",
            "7     Hank  60.0  90000.0        Sales\n"
          ]
        }
      ]
    },
    {
      "cell_type": "code",
      "source": [
        "#Filling missing values\n",
        "df_filled=df.fillna({'Age':df['Age'].mean(),\n",
        "                     'Salary':df['Salary'].mean()\n",
        "                     })\n",
        "print(df_filled)"
      ],
      "metadata": {
        "colab": {
          "base_uri": "https://localhost:8080/"
        },
        "id": "9koFbr6H1YQ5",
        "outputId": "5fcdfed9-d4f0-4d15-daa7-3f31f0da0d72"
      },
      "execution_count": 8,
      "outputs": [
        {
          "output_type": "stream",
          "name": "stdout",
          "text": [
            "      Name        Age   Salary   Department\n",
            "0    Alice  25.000000  50000.0           HR\n",
            "1      Bob  30.000000  70000.0  Engineering\n",
            "2  Charlie  35.000000  70000.0  Engineering\n",
            "3    David  38.285714  60000.0           HR\n",
            "4      Eve  28.000000  80000.0           HR\n",
            "5    Frank  40.000000  55000.0        Sales\n",
            "6    Grace  50.000000  85000.0        Sales\n",
            "7     Hank  60.000000  90000.0        Sales\n"
          ]
        }
      ]
    },
    {
      "cell_type": "code",
      "source": [
        "#Forward fill method\n",
        "df_ffill=df.fillna(method='ffill')\n",
        "print(df_ffill)"
      ],
      "metadata": {
        "colab": {
          "base_uri": "https://localhost:8080/"
        },
        "id": "QXz6mLWo2cfh",
        "outputId": "72b75ad5-8ccd-442b-c412-02cd11bdc24a"
      },
      "execution_count": 9,
      "outputs": [
        {
          "output_type": "stream",
          "name": "stdout",
          "text": [
            "      Name   Age   Salary   Department\n",
            "0    Alice  25.0  50000.0           HR\n",
            "1      Bob  30.0  50000.0  Engineering\n",
            "2  Charlie  35.0  70000.0  Engineering\n",
            "3    David  35.0  60000.0           HR\n",
            "4      Eve  28.0  80000.0           HR\n",
            "5    Frank  40.0  55000.0        Sales\n",
            "6    Grace  50.0  85000.0        Sales\n",
            "7     Hank  60.0  90000.0        Sales\n"
          ]
        }
      ]
    },
    {
      "cell_type": "code",
      "source": [
        "#Backward Fill Method\n",
        "df_bfill=df.fillna(method='bfill')\n",
        "print(df_bfill)"
      ],
      "metadata": {
        "colab": {
          "base_uri": "https://localhost:8080/"
        },
        "id": "jooDOqfO21ZJ",
        "outputId": "5c57f4e5-42f0-4f48-a83a-c1ada28a521d"
      },
      "execution_count": 10,
      "outputs": [
        {
          "output_type": "stream",
          "name": "stdout",
          "text": [
            "      Name   Age   Salary   Department\n",
            "0    Alice  25.0  50000.0           HR\n",
            "1      Bob  30.0  70000.0  Engineering\n",
            "2  Charlie  35.0  70000.0  Engineering\n",
            "3    David  28.0  60000.0           HR\n",
            "4      Eve  28.0  80000.0           HR\n",
            "5    Frank  40.0  55000.0        Sales\n",
            "6    Grace  50.0  85000.0        Sales\n",
            "7     Hank  60.0  90000.0        Sales\n"
          ]
        }
      ]
    },
    {
      "cell_type": "code",
      "source": [
        "#Removing Duplicates\n",
        "#First add duplicate rows\n",
        "df=pd.concat([df,df.iloc[[0]],df.iloc[[1]]],ignore_index=True)\n",
        "print('Before removing duplicates: \\n',df)\n",
        "\n",
        "#remove duplicates\n",
        "df_no_dup=df.drop_duplicates()\n",
        "print('After removing duplicates: \\n',df_no_dup)"
      ],
      "metadata": {
        "colab": {
          "base_uri": "https://localhost:8080/"
        },
        "id": "6JTBEFeM3A5E",
        "outputId": "83b26b0e-910a-416f-e439-32f111e79e21"
      },
      "execution_count": 11,
      "outputs": [
        {
          "output_type": "stream",
          "name": "stdout",
          "text": [
            "Before removing duplicates: \n",
            "       Name   Age   Salary   Department\n",
            "0    Alice  25.0  50000.0           HR\n",
            "1      Bob  30.0      NaN  Engineering\n",
            "2  Charlie  35.0  70000.0  Engineering\n",
            "3    David   NaN  60000.0           HR\n",
            "4      Eve  28.0  80000.0           HR\n",
            "5    Frank  40.0  55000.0        Sales\n",
            "6    Grace  50.0  85000.0        Sales\n",
            "7     Hank  60.0  90000.0        Sales\n",
            "8    Alice  25.0  50000.0           HR\n",
            "9      Bob  30.0      NaN  Engineering\n",
            "After removing duplicates: \n",
            "       Name   Age   Salary   Department\n",
            "0    Alice  25.0  50000.0           HR\n",
            "1      Bob  30.0      NaN  Engineering\n",
            "2  Charlie  35.0  70000.0  Engineering\n",
            "3    David   NaN  60000.0           HR\n",
            "4      Eve  28.0  80000.0           HR\n",
            "5    Frank  40.0  55000.0        Sales\n",
            "6    Grace  50.0  85000.0        Sales\n",
            "7     Hank  60.0  90000.0        Sales\n"
          ]
        }
      ]
    },
    {
      "cell_type": "code",
      "source": [
        "#Replacing incorrect values\n",
        "df_corrected=df.replace({'Department':{'HR':'Human resources','Sales':'Sales Department'}})\n",
        "print(df_corrected)"
      ],
      "metadata": {
        "colab": {
          "base_uri": "https://localhost:8080/"
        },
        "id": "IRD4jnuY32ay",
        "outputId": "6a4cbe6f-38f8-458f-af7c-65125fd00a77"
      },
      "execution_count": 12,
      "outputs": [
        {
          "output_type": "stream",
          "name": "stdout",
          "text": [
            "      Name   Age   Salary        Department\n",
            "0    Alice  25.0  50000.0   Human resources\n",
            "1      Bob  30.0      NaN       Engineering\n",
            "2  Charlie  35.0  70000.0       Engineering\n",
            "3    David   NaN  60000.0   Human resources\n",
            "4      Eve  28.0  80000.0   Human resources\n",
            "5    Frank  40.0  55000.0  Sales Department\n",
            "6    Grace  50.0  85000.0  Sales Department\n",
            "7     Hank  60.0  90000.0  Sales Department\n",
            "8    Alice  25.0  50000.0   Human resources\n",
            "9      Bob  30.0      NaN       Engineering\n"
          ]
        }
      ]
    },
    {
      "cell_type": "code",
      "source": [
        "#Ensuring Consistency\n",
        "\n",
        "#Convert all departments names to lowercase for consistency\n",
        "df['Department']=df['Department'].str.lower()\n",
        "print(df)"
      ],
      "metadata": {
        "colab": {
          "base_uri": "https://localhost:8080/"
        },
        "id": "8EPj--3o4yZX",
        "outputId": "af19677f-e1b4-4499-ec1a-0929f73d5e85"
      },
      "execution_count": 13,
      "outputs": [
        {
          "output_type": "stream",
          "name": "stdout",
          "text": [
            "      Name   Age   Salary   Department\n",
            "0    Alice  25.0  50000.0           hr\n",
            "1      Bob  30.0      NaN  engineering\n",
            "2  Charlie  35.0  70000.0  engineering\n",
            "3    David   NaN  60000.0           hr\n",
            "4      Eve  28.0  80000.0           hr\n",
            "5    Frank  40.0  55000.0        sales\n",
            "6    Grace  50.0  85000.0        sales\n",
            "7     Hank  60.0  90000.0        sales\n",
            "8    Alice  25.0  50000.0           hr\n",
            "9      Bob  30.0      NaN  engineering\n"
          ]
        }
      ]
    },
    {
      "cell_type": "code",
      "source": [
        "#Min max normalization\n",
        "df_normalized=df.copy()\n",
        "for col in ['Age','Salary']:\n",
        "  df_normalized[col]=(df[col]-df[col].min())/(df[col].max()-df[col].min())\n",
        "#Print orginal and normalized values\n",
        "print(\"Original Dataframe: \\n\",df)\n",
        "print(\"\\nNormalized Dataframe:\\n\",df_normalized)\n"
      ],
      "metadata": {
        "id": "m5H3OZKK5HIt",
        "colab": {
          "base_uri": "https://localhost:8080/"
        },
        "outputId": "30b8ca9a-98dd-4943-e743-afb5d74e460c"
      },
      "execution_count": 14,
      "outputs": [
        {
          "output_type": "stream",
          "name": "stdout",
          "text": [
            "Original Dataframe: \n",
            "       Name   Age   Salary   Department\n",
            "0    Alice  25.0  50000.0           hr\n",
            "1      Bob  30.0      NaN  engineering\n",
            "2  Charlie  35.0  70000.0  engineering\n",
            "3    David   NaN  60000.0           hr\n",
            "4      Eve  28.0  80000.0           hr\n",
            "5    Frank  40.0  55000.0        sales\n",
            "6    Grace  50.0  85000.0        sales\n",
            "7     Hank  60.0  90000.0        sales\n",
            "8    Alice  25.0  50000.0           hr\n",
            "9      Bob  30.0      NaN  engineering\n",
            "\n",
            "Normalized Dataframe:\n",
            "       Name       Age  Salary   Department\n",
            "0    Alice  0.000000   0.000           hr\n",
            "1      Bob  0.142857     NaN  engineering\n",
            "2  Charlie  0.285714   0.500  engineering\n",
            "3    David       NaN   0.250           hr\n",
            "4      Eve  0.085714   0.750           hr\n",
            "5    Frank  0.428571   0.125        sales\n",
            "6    Grace  0.714286   0.875        sales\n",
            "7     Hank  1.000000   1.000        sales\n",
            "8    Alice  0.000000   0.000           hr\n",
            "9      Bob  0.142857     NaN  engineering\n"
          ]
        }
      ]
    }
  ]
}