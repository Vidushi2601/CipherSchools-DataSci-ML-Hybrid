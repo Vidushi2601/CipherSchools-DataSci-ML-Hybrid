{
  "nbformat": 4,
  "nbformat_minor": 0,
  "metadata": {
    "colab": {
      "provenance": [],
      "toc_visible": true,
      "authorship_tag": "ABX9TyPKdmx4N76J/+pJhL547asJ",
      "include_colab_link": true
    },
    "kernelspec": {
      "name": "python3",
      "display_name": "Python 3"
    },
    "language_info": {
      "name": "python"
    }
  },
  "cells": [
    {
      "cell_type": "markdown",
      "metadata": {
        "id": "view-in-github",
        "colab_type": "text"
      },
      "source": [
        "<a href=\"https://colab.research.google.com/github/Vidushi2601/CipherSchools-DataSci-ML-Hybrid/blob/main/cipher_lecture_13.ipynb\" target=\"_parent\"><img src=\"https://colab.research.google.com/assets/colab-badge.svg\" alt=\"Open In Colab\"/></a>"
      ]
    },
    {
      "cell_type": "code",
      "execution_count": null,
      "metadata": {
        "id": "pHMNQngDuyAe"
      },
      "outputs": [],
      "source": [
        "#Assigning values to a variable\n",
        "name=\"John Doe\"\n",
        "age=30\n",
        "height=5.9\n"
      ]
    },
    {
      "cell_type": "code",
      "source": [
        "#Integer\n",
        "num=10\n",
        "print(abs(num))"
      ],
      "metadata": {
        "colab": {
          "base_uri": "https://localhost:8080/"
        },
        "id": "JLO8q_PFvvRb",
        "outputId": "5d6004e7-c223-46af-f8b1-27313b14d657"
      },
      "execution_count": null,
      "outputs": [
        {
          "output_type": "stream",
          "name": "stdout",
          "text": [
            "10\n"
          ]
        }
      ]
    },
    {
      "cell_type": "code",
      "source": [
        "print(bin(num))"
      ],
      "metadata": {
        "colab": {
          "base_uri": "https://localhost:8080/"
        },
        "id": "UaXcxL4Jv5Vb",
        "outputId": "5f14519f-50cd-445a-b044-003052ecb1a2"
      },
      "execution_count": null,
      "outputs": [
        {
          "output_type": "stream",
          "name": "stdout",
          "text": [
            "0b1010\n"
          ]
        }
      ]
    },
    {
      "cell_type": "code",
      "source": [
        "print(hex(num))"
      ],
      "metadata": {
        "colab": {
          "base_uri": "https://localhost:8080/"
        },
        "id": "B8XGTaFswNBV",
        "outputId": "670ef033-32b0-4f33-a019-be68d3861da9"
      },
      "execution_count": null,
      "outputs": [
        {
          "output_type": "stream",
          "name": "stdout",
          "text": [
            "0xa\n"
          ]
        }
      ]
    },
    {
      "cell_type": "code",
      "source": [
        "print(pow(num,2))   #power function (num^2)"
      ],
      "metadata": {
        "colab": {
          "base_uri": "https://localhost:8080/"
        },
        "id": "nWxE-BDHwcbR",
        "outputId": "e6f20eee-4e91-4f37-8a20-79d3ce1a6fd6"
      },
      "execution_count": null,
      "outputs": [
        {
          "output_type": "stream",
          "name": "stdout",
          "text": [
            "100\n"
          ]
        }
      ]
    },
    {
      "cell_type": "code",
      "source": [
        "print(divmod(num,3)) #Quotient and remainder"
      ],
      "metadata": {
        "colab": {
          "base_uri": "https://localhost:8080/"
        },
        "id": "q3aqKtj_we2L",
        "outputId": "89ea4bcd-e9c8-4934-981d-0313e0a571ef"
      },
      "execution_count": null,
      "outputs": [
        {
          "output_type": "stream",
          "name": "stdout",
          "text": [
            "(3, 1)\n"
          ]
        }
      ]
    },
    {
      "cell_type": "code",
      "source": [
        "#float\n",
        "price=99.99\n"
      ],
      "metadata": {
        "id": "IjarT8lswxbd"
      },
      "execution_count": null,
      "outputs": []
    },
    {
      "cell_type": "code",
      "source": [
        "#inbuilt function for float\n",
        "print(round(price))"
      ],
      "metadata": {
        "colab": {
          "base_uri": "https://localhost:8080/"
        },
        "id": "5zn_vfA8w1XV",
        "outputId": "00e3ecde-fe74-44b9-d862-d6c8d89b3aae"
      },
      "execution_count": null,
      "outputs": [
        {
          "output_type": "stream",
          "name": "stdout",
          "text": [
            "100\n"
          ]
        }
      ]
    },
    {
      "cell_type": "code",
      "source": [
        "print(abs(price))"
      ],
      "metadata": {
        "colab": {
          "base_uri": "https://localhost:8080/"
        },
        "id": "sNWIxnkaw-rB",
        "outputId": "99a55258-955d-4646-d5fb-0ab735696710"
      },
      "execution_count": null,
      "outputs": [
        {
          "output_type": "stream",
          "name": "stdout",
          "text": [
            "99.99\n"
          ]
        }
      ]
    },
    {
      "cell_type": "code",
      "source": [
        "print(int(price))"
      ],
      "metadata": {
        "colab": {
          "base_uri": "https://localhost:8080/"
        },
        "id": "QRXxSTX9xG1V",
        "outputId": "904100ed-6af7-4efc-9ad5-585d0ea71215"
      },
      "execution_count": null,
      "outputs": [
        {
          "output_type": "stream",
          "name": "stdout",
          "text": [
            "99\n"
          ]
        }
      ]
    },
    {
      "cell_type": "code",
      "source": [
        "print(float(\"123.45\")) #convert string to float"
      ],
      "metadata": {
        "colab": {
          "base_uri": "https://localhost:8080/"
        },
        "id": "440jBcZvxKZx",
        "outputId": "8231fbd7-3381-45a6-8ca7-ca870552f51c"
      },
      "execution_count": null,
      "outputs": [
        {
          "output_type": "stream",
          "name": "stdout",
          "text": [
            "123.45\n"
          ]
        }
      ]
    },
    {
      "cell_type": "code",
      "source": [
        "print(price.is_integer()) #check if float is an integer"
      ],
      "metadata": {
        "colab": {
          "base_uri": "https://localhost:8080/"
        },
        "id": "HHNRbJZdxRYD",
        "outputId": "d342b719-4154-45eb-e254-371cb31aa43b"
      },
      "execution_count": null,
      "outputs": [
        {
          "output_type": "stream",
          "name": "stdout",
          "text": [
            "False\n"
          ]
        }
      ]
    },
    {
      "cell_type": "code",
      "source": [
        "#String\n",
        "greeting=\"Hello, World!\""
      ],
      "metadata": {
        "id": "TY8QXU5MxdDi"
      },
      "execution_count": null,
      "outputs": []
    },
    {
      "cell_type": "code",
      "source": [
        "#Inbuilt functions for strings\n",
        "print(greeting.lower()) #converts to lowercase"
      ],
      "metadata": {
        "colab": {
          "base_uri": "https://localhost:8080/"
        },
        "id": "evqilKJdxlef",
        "outputId": "62b40453-f9bd-44b5-b2c6-7cc2bfdfefb8"
      },
      "execution_count": null,
      "outputs": [
        {
          "output_type": "stream",
          "name": "stdout",
          "text": [
            "hello, world!\n"
          ]
        }
      ]
    },
    {
      "cell_type": "code",
      "source": [
        "print(greeting.upper()) #converts to upper"
      ],
      "metadata": {
        "colab": {
          "base_uri": "https://localhost:8080/"
        },
        "id": "CgtsFBhRxx2b",
        "outputId": "65574fcc-c5ee-4a1b-d519-2d399d5c1700"
      },
      "execution_count": null,
      "outputs": [
        {
          "output_type": "stream",
          "name": "stdout",
          "text": [
            "HELLO, WORLD!\n"
          ]
        }
      ]
    },
    {
      "cell_type": "code",
      "source": [
        "print(greeting.replace(\"World\",\"Python\")) #Replace substring"
      ],
      "metadata": {
        "colab": {
          "base_uri": "https://localhost:8080/"
        },
        "id": "52y0hwlix62U",
        "outputId": "9823a829-e39a-4d40-a67a-3a60e8ac7759"
      },
      "execution_count": null,
      "outputs": [
        {
          "output_type": "stream",
          "name": "stdout",
          "text": [
            "Hello, Python!\n"
          ]
        }
      ]
    },
    {
      "cell_type": "code",
      "source": [
        "print(greeting.split()) #split string into list"
      ],
      "metadata": {
        "colab": {
          "base_uri": "https://localhost:8080/"
        },
        "id": "sYkeLoUTyDnt",
        "outputId": "6fe7a75f-d5d5-405a-e027-b04ca595165b"
      },
      "execution_count": null,
      "outputs": [
        {
          "output_type": "stream",
          "name": "stdout",
          "text": [
            "['Hello,', 'World!']\n"
          ]
        }
      ]
    },
    {
      "cell_type": "code",
      "source": [
        "print(greeting.find(\"World\")) #find substring"
      ],
      "metadata": {
        "colab": {
          "base_uri": "https://localhost:8080/"
        },
        "id": "nY0PdsjFzm_l",
        "outputId": "ad3e52f3-fde7-46b9-9f34-8f846efd279b"
      },
      "execution_count": null,
      "outputs": [
        {
          "output_type": "stream",
          "name": "stdout",
          "text": [
            "7\n"
          ]
        }
      ]
    },
    {
      "cell_type": "code",
      "source": [
        "print(len(greeting)) #length of substring"
      ],
      "metadata": {
        "colab": {
          "base_uri": "https://localhost:8080/"
        },
        "id": "WqoTkTQ8zuhY",
        "outputId": "aa71e3ba-7a4e-4edc-992e-9ab1ed92d2b6"
      },
      "execution_count": null,
      "outputs": [
        {
          "output_type": "stream",
          "name": "stdout",
          "text": [
            "13\n"
          ]
        }
      ]
    },
    {
      "cell_type": "code",
      "source": [
        "#list\n",
        "fruits=[\"apple\",\"banana\",\"cherry\"]"
      ],
      "metadata": {
        "id": "jG7r_Z7rzxIT"
      },
      "execution_count": null,
      "outputs": []
    },
    {
      "cell_type": "code",
      "source": [
        "#inbuilt functions for string\n",
        "fruits.append(\"orange\") #append an element"
      ],
      "metadata": {
        "id": "CoL6lIcdz8pJ"
      },
      "execution_count": null,
      "outputs": []
    },
    {
      "cell_type": "code",
      "source": [
        "fruits.extend([\"grape\",\"melon\"]) #extend list with another list"
      ],
      "metadata": {
        "id": "-Vq8b7VH0tVq"
      },
      "execution_count": null,
      "outputs": []
    },
    {
      "cell_type": "code",
      "source": [
        "fruits.remove(\"banana\") #remove an element"
      ],
      "metadata": {
        "id": "jVlNnfg108KZ"
      },
      "execution_count": null,
      "outputs": []
    },
    {
      "cell_type": "code",
      "source": [
        "fruits.pop() #remove last element"
      ],
      "metadata": {
        "colab": {
          "base_uri": "https://localhost:8080/",
          "height": 36
        },
        "id": "rlogC0L71BJT",
        "outputId": "a0719379-5e55-4925-9812-72e18e5519f7"
      },
      "execution_count": null,
      "outputs": [
        {
          "output_type": "execute_result",
          "data": {
            "text/plain": [
              "'melon'"
            ],
            "application/vnd.google.colaboratory.intrinsic+json": {
              "type": "string"
            }
          },
          "metadata": {},
          "execution_count": 57
        }
      ]
    },
    {
      "cell_type": "code",
      "source": [
        "fruits.sort() #sort the list"
      ],
      "metadata": {
        "id": "FZqJcEXl1EAd"
      },
      "execution_count": null,
      "outputs": []
    },
    {
      "cell_type": "code",
      "source": [
        "print(fruits)"
      ],
      "metadata": {
        "colab": {
          "base_uri": "https://localhost:8080/"
        },
        "id": "F493xpN51dTC",
        "outputId": "512d348e-c945-4069-ff97-3c5ace604c34"
      },
      "execution_count": null,
      "outputs": [
        {
          "output_type": "stream",
          "name": "stdout",
          "text": [
            "['apple', 'cherry', 'grape', 'orange']\n"
          ]
        }
      ]
    },
    {
      "cell_type": "code",
      "source": [
        "print(len(fruits))"
      ],
      "metadata": {
        "colab": {
          "base_uri": "https://localhost:8080/"
        },
        "id": "C_Hbnt6416Gs",
        "outputId": "244aa10a-aa57-48d7-f8cb-93ecc215411e"
      },
      "execution_count": null,
      "outputs": [
        {
          "output_type": "stream",
          "name": "stdout",
          "text": [
            "4\n"
          ]
        }
      ]
    },
    {
      "cell_type": "code",
      "source": [
        "print(fruits.index(\"cherry\")) #finds index of an element"
      ],
      "metadata": {
        "colab": {
          "base_uri": "https://localhost:8080/"
        },
        "id": "XVhpl5Iy1-FC",
        "outputId": "08af53d1-c7c4-48fe-a118-54b4f84da26b"
      },
      "execution_count": null,
      "outputs": [
        {
          "output_type": "stream",
          "name": "stdout",
          "text": [
            "1\n"
          ]
        }
      ]
    },
    {
      "cell_type": "code",
      "source": [
        "print(\"apple\" in fruits) #check if element is in list"
      ],
      "metadata": {
        "colab": {
          "base_uri": "https://localhost:8080/"
        },
        "id": "Ac5I7Iqo2GGU",
        "outputId": "b1959804-b3f5-453d-91b5-49ee4989388f"
      },
      "execution_count": null,
      "outputs": [
        {
          "output_type": "stream",
          "name": "stdout",
          "text": [
            "True\n"
          ]
        }
      ]
    },
    {
      "cell_type": "code",
      "source": [
        "#tuple\n",
        "coordinates=(10.0, 20.0)"
      ],
      "metadata": {
        "id": "YERy-CzE2NiC"
      },
      "execution_count": null,
      "outputs": []
    },
    {
      "cell_type": "code",
      "source": [
        "#inbuilt functions for tuples\n",
        "print(coordinates.count(10.0)) #counts occurences of an element"
      ],
      "metadata": {
        "colab": {
          "base_uri": "https://localhost:8080/"
        },
        "id": "RAAmfw-42T5l",
        "outputId": "b5d01722-2f3c-4137-f9a8-312701666d60"
      },
      "execution_count": null,
      "outputs": [
        {
          "output_type": "stream",
          "name": "stdout",
          "text": [
            "1\n"
          ]
        }
      ]
    },
    {
      "cell_type": "code",
      "source": [
        "print(coordinates.index(20.0)) #find index of element"
      ],
      "metadata": {
        "colab": {
          "base_uri": "https://localhost:8080/"
        },
        "id": "tmvaDtqN2mUk",
        "outputId": "8f802b22-6cfa-45c8-d950-09e295f82e84"
      },
      "execution_count": null,
      "outputs": [
        {
          "output_type": "stream",
          "name": "stdout",
          "text": [
            "1\n"
          ]
        }
      ]
    },
    {
      "cell_type": "code",
      "source": [
        "coordinates"
      ],
      "metadata": {
        "colab": {
          "base_uri": "https://localhost:8080/"
        },
        "id": "Xc5Azrmo27Zr",
        "outputId": "5f53c622-2630-49fe-cc3c-cbe402a7dfa5"
      },
      "execution_count": null,
      "outputs": [
        {
          "output_type": "execute_result",
          "data": {
            "text/plain": [
              "(10.0, 20.0)"
            ]
          },
          "metadata": {},
          "execution_count": 68
        }
      ]
    },
    {
      "cell_type": "code",
      "source": [
        "print(len(coordinates)) #length of tuple"
      ],
      "metadata": {
        "colab": {
          "base_uri": "https://localhost:8080/"
        },
        "id": "OrFrCr3d2wTL",
        "outputId": "a16b2f3d-9770-4d53-a7f5-20e4398d9bd3"
      },
      "execution_count": null,
      "outputs": [
        {
          "output_type": "stream",
          "name": "stdout",
          "text": [
            "2\n"
          ]
        }
      ]
    },
    {
      "cell_type": "code",
      "source": [
        "li=list(coordinates)"
      ],
      "metadata": {
        "id": "pxtm26kf3NjU"
      },
      "execution_count": null,
      "outputs": []
    },
    {
      "cell_type": "code",
      "source": [
        "li"
      ],
      "metadata": {
        "colab": {
          "base_uri": "https://localhost:8080/"
        },
        "id": "AkWThS1u3V8q",
        "outputId": "a64216a6-966e-4870-d6fb-d82f91dbe688"
      },
      "execution_count": null,
      "outputs": [
        {
          "output_type": "execute_result",
          "data": {
            "text/plain": [
              "[10.0, 20.0]"
            ]
          },
          "metadata": {},
          "execution_count": 72
        }
      ]
    },
    {
      "cell_type": "code",
      "source": [
        "li[1]=\"hi\""
      ],
      "metadata": {
        "id": "xNigaOEu3XPL"
      },
      "execution_count": null,
      "outputs": []
    },
    {
      "cell_type": "code",
      "source": [
        "li\n"
      ],
      "metadata": {
        "colab": {
          "base_uri": "https://localhost:8080/"
        },
        "id": "zSe4pjt_3Z7N",
        "outputId": "9c10a789-586a-4d04-c746-f49be94f716a"
      },
      "execution_count": null,
      "outputs": [
        {
          "output_type": "execute_result",
          "data": {
            "text/plain": [
              "[10.0, 'hi']"
            ]
          },
          "metadata": {},
          "execution_count": 74
        }
      ]
    },
    {
      "cell_type": "code",
      "source": [
        "#dictionary\n",
        "person={\"name\": \"John\",\"age\": 30}"
      ],
      "metadata": {
        "id": "kVBGfSGO2-yV"
      },
      "execution_count": null,
      "outputs": []
    },
    {
      "cell_type": "code",
      "source": [
        "#inbuilt functions for dictionaries\n",
        "print(person.keys()) #get all the keys"
      ],
      "metadata": {
        "colab": {
          "base_uri": "https://localhost:8080/"
        },
        "id": "VBiHvJ-w3u-E",
        "outputId": "ff59a4fe-100b-491c-888e-6e3bd6987aad"
      },
      "execution_count": null,
      "outputs": [
        {
          "output_type": "stream",
          "name": "stdout",
          "text": [
            "dict_keys(['name', 'age'])\n"
          ]
        }
      ]
    },
    {
      "cell_type": "code",
      "source": [
        "print(person.values()) #get all values"
      ],
      "metadata": {
        "colab": {
          "base_uri": "https://localhost:8080/"
        },
        "id": "Fls3oqRg35uM",
        "outputId": "87390754-e01a-475f-e1fe-c460107f67b0"
      },
      "execution_count": null,
      "outputs": [
        {
          "output_type": "stream",
          "name": "stdout",
          "text": [
            "dict_values(['John', 30])\n"
          ]
        }
      ]
    },
    {
      "cell_type": "code",
      "source": [
        "print(person.items()) #key value pairs"
      ],
      "metadata": {
        "colab": {
          "base_uri": "https://localhost:8080/"
        },
        "id": "oou7gX1k4CLi",
        "outputId": "542a5e38-3447-4442-9f53-23f76d4ec1cc"
      },
      "execution_count": null,
      "outputs": [
        {
          "output_type": "stream",
          "name": "stdout",
          "text": [
            "dict_items([('name', 'John'), ('age', 30)])\n"
          ]
        }
      ]
    },
    {
      "cell_type": "code",
      "source": [
        "print(person.get(\"name\")) #get value by key"
      ],
      "metadata": {
        "colab": {
          "base_uri": "https://localhost:8080/"
        },
        "id": "BnfDnfxh4NnY",
        "outputId": "8baeb5ab-6b3a-4c97-a3be-02303ae34470"
      },
      "execution_count": null,
      "outputs": [
        {
          "output_type": "stream",
          "name": "stdout",
          "text": [
            "John\n"
          ]
        }
      ]
    },
    {
      "cell_type": "code",
      "source": [
        "person.update({\"height\":180}) #update dictionary with another dictionary"
      ],
      "metadata": {
        "id": "0mbzHQPr4S_3"
      },
      "execution_count": null,
      "outputs": []
    },
    {
      "cell_type": "code",
      "source": [
        "person.pop(\"age\") #removes key value pair by key"
      ],
      "metadata": {
        "colab": {
          "base_uri": "https://localhost:8080/"
        },
        "id": "Oeh8ulkx40vO",
        "outputId": "dce73452-ecbb-4df7-a080-0d8041449ce6"
      },
      "execution_count": null,
      "outputs": [
        {
          "output_type": "execute_result",
          "data": {
            "text/plain": [
              "30"
            ]
          },
          "metadata": {},
          "execution_count": 84
        }
      ]
    },
    {
      "cell_type": "code",
      "source": [
        "person"
      ],
      "metadata": {
        "colab": {
          "base_uri": "https://localhost:8080/"
        },
        "id": "QyD6pvKR87Gt",
        "outputId": "67c9f94e-396c-485b-ebe4-4ce57ee4da8f"
      },
      "execution_count": null,
      "outputs": [
        {
          "output_type": "execute_result",
          "data": {
            "text/plain": [
              "{'name': 'John', 'height': 180}"
            ]
          },
          "metadata": {},
          "execution_count": 85
        }
      ]
    },
    {
      "cell_type": "code",
      "source": [
        "print(len(person))"
      ],
      "metadata": {
        "colab": {
          "base_uri": "https://localhost:8080/"
        },
        "id": "07t7iRT78-s0",
        "outputId": "fa0c8547-56c5-42b1-cb31-f190f17731e9"
      },
      "execution_count": null,
      "outputs": [
        {
          "output_type": "stream",
          "name": "stdout",
          "text": [
            "2\n"
          ]
        }
      ]
    },
    {
      "cell_type": "code",
      "source": [
        "#set\n",
        "se={1,2,3,4}"
      ],
      "metadata": {
        "id": "XXD85fkR9JfX"
      },
      "execution_count": null,
      "outputs": []
    },
    {
      "cell_type": "code",
      "source": [
        "#not allow duplicates\n",
        "se={1,1,1,1,1,1}"
      ],
      "metadata": {
        "id": "cwCMguE09WHW"
      },
      "execution_count": null,
      "outputs": []
    },
    {
      "cell_type": "code",
      "source": [
        "se"
      ],
      "metadata": {
        "colab": {
          "base_uri": "https://localhost:8080/"
        },
        "id": "m9TPNhfv9bwd",
        "outputId": "88e3a0fe-172b-47c9-9867-3d6bdb6ab6fd"
      },
      "execution_count": null,
      "outputs": [
        {
          "output_type": "execute_result",
          "data": {
            "text/plain": [
              "{1}"
            ]
          },
          "metadata": {},
          "execution_count": 89
        }
      ]
    },
    {
      "cell_type": "code",
      "source": [
        "#length\n",
        "print(len(se))"
      ],
      "metadata": {
        "colab": {
          "base_uri": "https://localhost:8080/"
        },
        "id": "48P9md5x9fqm",
        "outputId": "983aba88-a9f8-42bf-a24c-e08c4a75ea57"
      },
      "execution_count": null,
      "outputs": [
        {
          "output_type": "stream",
          "name": "stdout",
          "text": [
            "1\n"
          ]
        }
      ]
    },
    {
      "cell_type": "code",
      "source": [
        "#add\n",
        "se.add(9)"
      ],
      "metadata": {
        "id": "SSF5Vxo_90KH"
      },
      "execution_count": null,
      "outputs": []
    },
    {
      "cell_type": "code",
      "source": [
        "se.update({10,11,12}) #add another set"
      ],
      "metadata": {
        "id": "1M3wRct3-ADV"
      },
      "execution_count": null,
      "outputs": []
    },
    {
      "cell_type": "code",
      "source": [
        "#remove\n",
        "se.remove(10)"
      ],
      "metadata": {
        "id": "kHJf00Ux-Lov"
      },
      "execution_count": null,
      "outputs": []
    },
    {
      "cell_type": "code",
      "source": [
        "print(se)"
      ],
      "metadata": {
        "id": "X_YGDntT-SwE",
        "outputId": "5a9c27df-0ebc-4a30-c637-1849b8ea7743",
        "colab": {
          "base_uri": "https://localhost:8080/"
        }
      },
      "execution_count": null,
      "outputs": [
        {
          "output_type": "stream",
          "name": "stdout",
          "text": [
            "{1, 9, 11, 12}\n"
          ]
        }
      ]
    },
    {
      "cell_type": "code",
      "source": [
        "#boolean\n",
        "is_active=True"
      ],
      "metadata": {
        "id": "1apH2ysL_eru"
      },
      "execution_count": 96,
      "outputs": []
    },
    {
      "cell_type": "code",
      "source": [
        "#inbuilt functions for boolean\n",
        "print(int(is_active)) #1 for true, 0 for false"
      ],
      "metadata": {
        "colab": {
          "base_uri": "https://localhost:8080/"
        },
        "id": "npLLqZsL_rAK",
        "outputId": "47f8643f-8ead-4eb8-c8fd-5b37a7c24efd"
      },
      "execution_count": 97,
      "outputs": [
        {
          "output_type": "stream",
          "name": "stdout",
          "text": [
            "1\n"
          ]
        }
      ]
    },
    {
      "cell_type": "code",
      "source": [
        "print(bool(1))"
      ],
      "metadata": {
        "colab": {
          "base_uri": "https://localhost:8080/"
        },
        "id": "lWDLWUZz_5fI",
        "outputId": "2f073209-f461-4660-b9ae-eaecfd1a4965"
      },
      "execution_count": 98,
      "outputs": [
        {
          "output_type": "stream",
          "name": "stdout",
          "text": [
            "True\n"
          ]
        }
      ]
    },
    {
      "cell_type": "code",
      "source": [
        "print(bool(\"Hello\")) #convert string to boolean(true)"
      ],
      "metadata": {
        "colab": {
          "base_uri": "https://localhost:8080/"
        },
        "id": "tltoQlYCACir",
        "outputId": "3adb7c49-b491-463b-dcd8-01d762329175"
      },
      "execution_count": 100,
      "outputs": [
        {
          "output_type": "stream",
          "name": "stdout",
          "text": [
            "True\n"
          ]
        }
      ]
    },
    {
      "cell_type": "code",
      "source": [
        "print(is_active and False) #logical AND"
      ],
      "metadata": {
        "colab": {
          "base_uri": "https://localhost:8080/"
        },
        "id": "ktMxcexyAb_3",
        "outputId": "2bd75b82-596a-41ab-c171-dcd2b5c01e92"
      },
      "execution_count": 101,
      "outputs": [
        {
          "output_type": "stream",
          "name": "stdout",
          "text": [
            "False\n"
          ]
        }
      ]
    },
    {
      "cell_type": "code",
      "source": [
        "print(is_active or False) #Logical OR"
      ],
      "metadata": {
        "colab": {
          "base_uri": "https://localhost:8080/"
        },
        "id": "sN9XIAEPB5kl",
        "outputId": "8f5da773-c493-4dde-8598-09006ed95252"
      },
      "execution_count": 102,
      "outputs": [
        {
          "output_type": "stream",
          "name": "stdout",
          "text": [
            "True\n"
          ]
        }
      ]
    },
    {
      "cell_type": "code",
      "source": [
        "print(not is_active)"
      ],
      "metadata": {
        "colab": {
          "base_uri": "https://localhost:8080/"
        },
        "id": "KyG78y7vCEoL",
        "outputId": "6ea0cbfc-a124-4c4f-c84f-8d1602d7c5ca"
      },
      "execution_count": 103,
      "outputs": [
        {
          "output_type": "stream",
          "name": "stdout",
          "text": [
            "False\n"
          ]
        }
      ]
    },
    {
      "cell_type": "code",
      "source": [
        "#Basic if-elif-else statement\n",
        "age=20\n",
        "if age<18:\n",
        "  print(\"Minor\")\n",
        "elif age>=18 and age<65:\n",
        "  print(\"Adult\")\n",
        "else:\n",
        "  print(\"Senior\")"
      ],
      "metadata": {
        "colab": {
          "base_uri": "https://localhost:8080/"
        },
        "id": "PIuWHThiCIfZ",
        "outputId": "c602eb0a-eb6f-4fb0-d7be-116e8ee18d39"
      },
      "execution_count": 104,
      "outputs": [
        {
          "output_type": "stream",
          "name": "stdout",
          "text": [
            "Adult\n"
          ]
        }
      ]
    },
    {
      "cell_type": "code",
      "source": [
        "#checking even or odd number\n",
        "number=42\n",
        "if number%2==0:\n",
        "  print(\"Even Number\")\n",
        "else:\n",
        "  print(\"Odd number\")"
      ],
      "metadata": {
        "colab": {
          "base_uri": "https://localhost:8080/"
        },
        "id": "BE64K_2yC21Y",
        "outputId": "a2d22d08-3201-4aa5-abbb-838e668a0cb6"
      },
      "execution_count": 105,
      "outputs": [
        {
          "output_type": "stream",
          "name": "stdout",
          "text": [
            "Even Number\n"
          ]
        }
      ]
    },
    {
      "cell_type": "code",
      "source": [
        "#Grade Evaluation\n",
        "score=85\n",
        "\n",
        "if score>=90:\n",
        "  print(\"Grade: A\")\n",
        "elif score>=80:\n",
        "  print(\"Grade: B\")\n",
        "elif score>=70:\n",
        "  print(\"Grade: C\")\n",
        "elif score>=60:\n",
        "  print(\"Grade: D\")\n",
        "else:\n",
        "  print(\"Grade: F\")"
      ],
      "metadata": {
        "colab": {
          "base_uri": "https://localhost:8080/"
        },
        "id": "L1TgrKc8DJgy",
        "outputId": "1a9fbb0e-682d-4104-89ba-3c28dad4a891"
      },
      "execution_count": 106,
      "outputs": [
        {
          "output_type": "stream",
          "name": "stdout",
          "text": [
            "Grade: B\n"
          ]
        }
      ]
    },
    {
      "cell_type": "code",
      "source": [
        "#Temperature Check\n",
        "temperature=30;\n",
        "if temperature>30:\n",
        "  print(\"It's a hot day\")\n",
        "elif temperature>=20:\n",
        "  print(\"It's a nice day\")\n",
        "else:\n",
        "  print(\"It's a cold day\")"
      ],
      "metadata": {
        "colab": {
          "base_uri": "https://localhost:8080/"
        },
        "id": "sCiy4TH4D7vX",
        "outputId": "b6792433-43b0-4ebd-ee9e-0b7d6b8871e3"
      },
      "execution_count": 107,
      "outputs": [
        {
          "output_type": "stream",
          "name": "stdout",
          "text": [
            "It's a nice day\n"
          ]
        }
      ]
    },
    {
      "cell_type": "code",
      "source": [
        "#Nested conditionals for BMI calculation\n",
        "weight=70 #in kgs\n",
        "height=1.75 #in meters\n",
        "bmi=weight/(height**2)\n",
        "if bmi<18.5:\n",
        "  print(\"Underweight\")\n",
        "else:\n",
        "  if bmi<24.9:\n",
        "    print(\"Normal weight\")\n",
        "  else:\n",
        "    if bmi<29.9:\n",
        "      print(\"Overweight\")\n",
        "    else:\n",
        "      print(\"Obesity\")"
      ],
      "metadata": {
        "colab": {
          "base_uri": "https://localhost:8080/"
        },
        "id": "TfNhj2pZEX6l",
        "outputId": "26bc2400-ae51-4ce9-a6cb-b738b746dd71"
      },
      "execution_count": 108,
      "outputs": [
        {
          "output_type": "stream",
          "name": "stdout",
          "text": [
            "Normal weight\n"
          ]
        }
      ]
    },
    {
      "cell_type": "code",
      "source": [
        "#Traffic Light System\n",
        "traffic_light=\"Green\"\n",
        "if traffic_light==\"Red\":\n",
        "  print(\"Stop\")\n",
        "elif traffic_light==\"Yellow\":\n",
        "  print(\"Caution\")\n",
        "elif traffic_light==\"Green\":\n",
        "  print(\"Go\")\n",
        "else:\n",
        "  print(\"Invalid traffic light color\")"
      ],
      "metadata": {
        "colab": {
          "base_uri": "https://localhost:8080/"
        },
        "id": "iuFEqUdmFFcI",
        "outputId": "aa4734e0-5bd1-4292-c9b0-0d56a25ca812"
      },
      "execution_count": 109,
      "outputs": [
        {
          "output_type": "stream",
          "name": "stdout",
          "text": [
            "Go\n"
          ]
        }
      ]
    },
    {
      "cell_type": "code",
      "source": [
        "#User login Status\n",
        "is_logged_in=True\n",
        "has_permission= True\n",
        "\n",
        "if is_logged_in:\n",
        "  if has_permission:\n",
        "    print(\"Access Granted\")\n",
        "  else:\n",
        "    print(\"Access Denied: Insufficient permissions\")\n",
        "else:\n",
        "  print(\"Access denied: User not logged in\")"
      ],
      "metadata": {
        "colab": {
          "base_uri": "https://localhost:8080/"
        },
        "id": "LMqEdlkQFlux",
        "outputId": "f74b0976-c8f0-4b85-b6c2-01db446a971f"
      },
      "execution_count": 110,
      "outputs": [
        {
          "output_type": "stream",
          "name": "stdout",
          "text": [
            "Access Granted\n"
          ]
        }
      ]
    },
    {
      "cell_type": "code",
      "source": [
        "#Age-Based Discount\n",
        "age=70\n",
        "if age<18:\n",
        "  print(\"Eligible for child discount\")\n",
        "elif age>=65:\n",
        "  print(\"Eligible for senior discount\")\n",
        "else:\n",
        "  print(\"Regular pricing\")"
      ],
      "metadata": {
        "colab": {
          "base_uri": "https://localhost:8080/"
        },
        "id": "F341UpW0GHKE",
        "outputId": "656c0343-be28-487e-fa4f-aa06f06434a9"
      },
      "execution_count": 111,
      "outputs": [
        {
          "output_type": "stream",
          "name": "stdout",
          "text": [
            "Eligible for senior discount\n"
          ]
        }
      ]
    },
    {
      "cell_type": "code",
      "source": [
        "#Multiple Conditions (AND/OR)\n",
        "temp=25\n",
        "weather=\"sunny\"\n",
        "if temp>20 and weather==\"sunny\":\n",
        "  print(\"It's a great day for a walk\")\n",
        "elif temp<=20 or weather!=\"sunny\":\n",
        "  print(\"Maybe stay indoors today\")\n",
        "else:\n",
        "  print(\"Weather conditions are unsusual\")"
      ],
      "metadata": {
        "colab": {
          "base_uri": "https://localhost:8080/"
        },
        "id": "EoLFMqZrGlFJ",
        "outputId": "711c70b5-117e-4f90-af54-d8178997d83e"
      },
      "execution_count": 112,
      "outputs": [
        {
          "output_type": "stream",
          "name": "stdout",
          "text": [
            "It's a great day for a walk\n"
          ]
        }
      ]
    },
    {
      "cell_type": "code",
      "source": [
        "#For loop\n",
        "for i in range(5):\n",
        "  print(i)"
      ],
      "metadata": {
        "colab": {
          "base_uri": "https://localhost:8080/"
        },
        "id": "ANEDifLMHLod",
        "outputId": "6c33e00f-9e97-4a59-88f2-dfc452d620c5"
      },
      "execution_count": 113,
      "outputs": [
        {
          "output_type": "stream",
          "name": "stdout",
          "text": [
            "0\n",
            "1\n",
            "2\n",
            "3\n",
            "4\n"
          ]
        }
      ]
    },
    {
      "cell_type": "code",
      "source": [
        "#Iterating over a list\n",
        "fruits=[\"apple\",\"banana\",\"cherry\",\"date\"]\n",
        "for fruit in fruits:\n",
        "  print(fruit)\n"
      ],
      "metadata": {
        "colab": {
          "base_uri": "https://localhost:8080/"
        },
        "id": "Q7uBCgdiHfRr",
        "outputId": "867bab76-2f90-44bb-a27e-a1cbd4436cd7"
      },
      "execution_count": 114,
      "outputs": [
        {
          "output_type": "stream",
          "name": "stdout",
          "text": [
            "apple\n",
            "banana\n",
            "cherry\n",
            "date\n"
          ]
        }
      ]
    },
    {
      "cell_type": "code",
      "source": [
        "#Iterating over a string\n",
        "greeting=\"Hello\"\n",
        "for char in greeting:\n",
        "  print(char)"
      ],
      "metadata": {
        "colab": {
          "base_uri": "https://localhost:8080/"
        },
        "id": "9S9Yo8aYHyCY",
        "outputId": "9cc9b872-c6c2-4cab-d0af-2e2492513fe0"
      },
      "execution_count": 115,
      "outputs": [
        {
          "output_type": "stream",
          "name": "stdout",
          "text": [
            "H\n",
            "e\n",
            "l\n",
            "l\n",
            "o\n"
          ]
        }
      ]
    },
    {
      "cell_type": "code",
      "source": [
        "#Iterating over a dictionary\n",
        "person={\"name\":\"John\",\"age\":30,\"city\":\"New York\"}\n",
        "for key,value in person.items():\n",
        "  print(f\"{key}:{value}\")"
      ],
      "metadata": {
        "colab": {
          "base_uri": "https://localhost:8080/"
        },
        "id": "weCyJ8K2H9ag",
        "outputId": "272c4bfb-9d11-47c7-91e2-784081af5708"
      },
      "execution_count": 116,
      "outputs": [
        {
          "output_type": "stream",
          "name": "stdout",
          "text": [
            "name:John\n",
            "age:30\n",
            "city:New York\n"
          ]
        }
      ]
    },
    {
      "cell_type": "code",
      "source": [
        "#Using the range() function with a step\n",
        "for i in range(0,10,2):\n",
        "  print(i)"
      ],
      "metadata": {
        "colab": {
          "base_uri": "https://localhost:8080/"
        },
        "id": "S368EU5CIiyx",
        "outputId": "7e5b2fb9-af13-4010-aea9-f58a499b88de"
      },
      "execution_count": 117,
      "outputs": [
        {
          "output_type": "stream",
          "name": "stdout",
          "text": [
            "0\n",
            "2\n",
            "4\n",
            "6\n",
            "8\n"
          ]
        }
      ]
    },
    {
      "cell_type": "code",
      "source": [
        "#Nested for loops\n",
        "for i in range(3):\n",
        "  for j in range(2):\n",
        "    print(f\"i={i},j={j}\")"
      ],
      "metadata": {
        "colab": {
          "base_uri": "https://localhost:8080/"
        },
        "id": "2gQzbwyWIwdx",
        "outputId": "866bfb13-5e64-4d90-fcd0-b422f4532608"
      },
      "execution_count": 118,
      "outputs": [
        {
          "output_type": "stream",
          "name": "stdout",
          "text": [
            "i=0,j=0\n",
            "i=0,j=1\n",
            "i=1,j=0\n",
            "i=1,j=1\n",
            "i=2,j=0\n",
            "i=2,j=1\n"
          ]
        }
      ]
    },
    {
      "cell_type": "code",
      "source": [
        "#Using the enumerate() function\n",
        "fruits=[\"apple\",\"banana\",\"cherry\"]\n",
        "for index,fruit in enumerate(fruits):\n",
        "  print(f\"{index}:{fruit}\")"
      ],
      "metadata": {
        "colab": {
          "base_uri": "https://localhost:8080/"
        },
        "id": "T6wFJmulJBSr",
        "outputId": "a2716ec7-058d-473b-e654-719761aefe24"
      },
      "execution_count": 119,
      "outputs": [
        {
          "output_type": "stream",
          "name": "stdout",
          "text": [
            "0:apple\n",
            "1:banana\n",
            "2:cherry\n"
          ]
        }
      ]
    },
    {
      "cell_type": "code",
      "source": [
        "#While loop\n",
        "count=0\n",
        "while count<5:\n",
        "  print(count)\n",
        "  count+=1"
      ],
      "metadata": {
        "colab": {
          "base_uri": "https://localhost:8080/"
        },
        "id": "7CaUKv7aJnOU",
        "outputId": "85054158-11c0-4575-a246-54e1aa71bdca"
      },
      "execution_count": 120,
      "outputs": [
        {
          "output_type": "stream",
          "name": "stdout",
          "text": [
            "0\n",
            "1\n",
            "2\n",
            "3\n",
            "4\n"
          ]
        }
      ]
    },
    {
      "cell_type": "code",
      "source": [
        "#While loop with break\n",
        "count=0;\n",
        "while True:\n",
        "  print(count)\n",
        "  count+=1\n",
        "  if count>=5:\n",
        "    break"
      ],
      "metadata": {
        "colab": {
          "base_uri": "https://localhost:8080/"
        },
        "id": "eKRLY4-EJ0Lg",
        "outputId": "c8b05596-6a29-4a5f-ad04-f25bb9530966"
      },
      "execution_count": 121,
      "outputs": [
        {
          "output_type": "stream",
          "name": "stdout",
          "text": [
            "0\n",
            "1\n",
            "2\n",
            "3\n",
            "4\n"
          ]
        }
      ]
    },
    {
      "cell_type": "code",
      "source": [
        "#While loop with continue\n",
        "count=0\n",
        "while count<10:\n",
        "  count+=1\n",
        "  if count%2==0:\n",
        "    continue\n",
        "  print(count)"
      ],
      "metadata": {
        "colab": {
          "base_uri": "https://localhost:8080/"
        },
        "id": "A7NDNhRDKKcd",
        "outputId": "27bde714-8d21-4b7a-c19e-6975d0a54d60"
      },
      "execution_count": 122,
      "outputs": [
        {
          "output_type": "stream",
          "name": "stdout",
          "text": [
            "1\n",
            "3\n",
            "5\n",
            "7\n",
            "9\n"
          ]
        }
      ]
    },
    {
      "cell_type": "code",
      "source": [
        "#Uisng a while loop to process user input\n",
        "user_input=\"\"\n",
        "while user_input.lower()!=\"quit\":\n",
        "  user_input=input(\"Enter something (or type 'quit' to exit)\")\n",
        "  print(f\"You entered:{user_input} \")"
      ],
      "metadata": {
        "colab": {
          "base_uri": "https://localhost:8080/"
        },
        "id": "iUFP6e1WKo1-",
        "outputId": "bbdb82ba-ece2-49ae-e640-629648f8e81b"
      },
      "execution_count": 123,
      "outputs": [
        {
          "output_type": "stream",
          "name": "stdout",
          "text": [
            "Enter something (or type 'quit' to exit)right\n",
            "You entered:right \n",
            "Enter something (or type 'quit' to exit)quit\n",
            "You entered:quit \n"
          ]
        }
      ]
    },
    {
      "cell_type": "code",
      "source": [
        "#Simulating a countdown\n",
        "countdown=10\n",
        "while countdown>0:\n",
        "  print(countdown)\n",
        "  countdown-=1\n",
        "print(\"Blast off\")"
      ],
      "metadata": {
        "colab": {
          "base_uri": "https://localhost:8080/"
        },
        "id": "P9DHK1VsLJDD",
        "outputId": "06cf576b-960c-4836-a550-42558472cbb4"
      },
      "execution_count": 124,
      "outputs": [
        {
          "output_type": "stream",
          "name": "stdout",
          "text": [
            "10\n",
            "9\n",
            "8\n",
            "7\n",
            "6\n",
            "5\n",
            "4\n",
            "3\n",
            "2\n",
            "1\n",
            "Blast off\n"
          ]
        }
      ]
    },
    {
      "cell_type": "code",
      "source": [
        "#Using a while loop for validation\n",
        "password=\"\"\n",
        "while len(password)<8:\n",
        "  password=input(\"Enter a password (must be at least 8 characters long): \")\n",
        "  if len(password)<8:\n",
        "    print(\"Password too short. Try again\")\n",
        "print(\"Password accepted\")"
      ],
      "metadata": {
        "colab": {
          "base_uri": "https://localhost:8080/"
        },
        "id": "UoGZH36yLb1Q",
        "outputId": "6e0c7e39-a374-4829-cf93-f06506d7839b"
      },
      "execution_count": 127,
      "outputs": [
        {
          "output_type": "stream",
          "name": "stdout",
          "text": [
            "Enter a password (must be at least 8 characters long): 123456\n",
            "Password too short. Try again\n",
            "Enter a password (must be at least 8 characters long): 123456789\n",
            "Password accepted\n"
          ]
        }
      ]
    },
    {
      "cell_type": "code",
      "source": [
        "#Variables to store inventory\n",
        "store_name=\"Green Grocery\"\n",
        "inventory={\n",
        "  \"apples\":50,\n",
        "  \"bananas\":30,\n",
        "  \"cherries\":20\n",
        "}\n",
        "\n",
        "#Data type: Dictionary to store inventory\n",
        "#Data type: Integer for item quantities\n",
        "#Conditional: check inventory status\n",
        "def check_inventory(item):\n",
        "  if inventory[item]>0:\n",
        "    return f\"{item.capitalize()} are in stock: {inventory[item]}\"\n",
        "  else:\n",
        "    return f\"{item.capitalize()} are out of stock.\"\n",
        "\n",
        "\n",
        "  #LOOP: Update Inventory\n",
        "def update_inventory(item,quantity):\n",
        "  if item in inventory:\n",
        "    inventory[item]+=quantity\n",
        "  else:\n",
        "    inventory[item]=quantity\n",
        "\n",
        "\n",
        "  #Check and Update Inventory\n",
        "print(check_inventory(\"apples\"))\n",
        "update_inventory(\"apples\",-10)\n",
        "print(check_inventory(\"apples\"))\n",
        "update_inventory(\"oranges\",40)\n",
        "print(check_inventory(\"oranges\"))\n",
        "\n"
      ],
      "metadata": {
        "colab": {
          "base_uri": "https://localhost:8080/"
        },
        "id": "Cg3TAVOiMH-p",
        "outputId": "526a7c4e-a41a-49d2-e910-f4fc362c917c"
      },
      "execution_count": 131,
      "outputs": [
        {
          "output_type": "stream",
          "name": "stdout",
          "text": [
            "Apples are in stock: 50\n",
            "Apples are in stock: 40\n",
            "Oranges are in stock: 40\n"
          ]
        }
      ]
    }
  ]
}