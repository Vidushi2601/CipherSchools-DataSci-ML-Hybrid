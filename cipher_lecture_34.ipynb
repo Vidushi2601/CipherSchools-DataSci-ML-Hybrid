{
  "nbformat": 4,
  "nbformat_minor": 0,
  "metadata": {
    "colab": {
      "provenance": [],
      "authorship_tag": "ABX9TyNm2lYQyTYe48gGSzDN7z7C",
      "include_colab_link": true
    },
    "kernelspec": {
      "name": "python3",
      "display_name": "Python 3"
    },
    "language_info": {
      "name": "python"
    }
  },
  "cells": [
    {
      "cell_type": "markdown",
      "metadata": {
        "id": "view-in-github",
        "colab_type": "text"
      },
      "source": [
        "<a href=\"https://colab.research.google.com/github/Vidushi2601/CipherSchools-DataSci-ML-Hybrid/blob/main/cipher_lecture_34.ipynb\" target=\"_parent\"><img src=\"https://colab.research.google.com/assets/colab-badge.svg\" alt=\"Open In Colab\"/></a>"
      ]
    },
    {
      "cell_type": "code",
      "source": [
        "import pandas as pd\n",
        "\n",
        "#Load the Dataset\n",
        "data=pd.read_csv('chatbot_dataset.csv')\n",
        "\n",
        "#Preprocess the data\n",
        "nltk.download('punkt')\n",
        "data['Question']=data['Question'].apply(lambda x: ' '.join(nltk.word_tokenize(x.lower())))\n",
        "print(data.head())"
      ],
      "metadata": {
        "colab": {
          "base_uri": "https://localhost:8080/"
        },
        "id": "KLTJP7AsdJqu",
        "outputId": "03d23704-a127-4d80-d84d-07a3809546c6"
      },
      "execution_count": 14,
      "outputs": [
        {
          "output_type": "stream",
          "name": "stdout",
          "text": [
            "                                      Question  \\\n",
            "0                   introduction to the course   \n",
            "1  overview of data science and its importance   \n",
            "2    introduction to the data science workflow   \n",
            "3         key skills and tools in data science   \n",
            "4          where can i find my course videos ?   \n",
            "\n",
            "                                              Answer  \n",
            "0  Welcome to the data science course. Here you w...  \n",
            "1  Data science is crucial for making informed de...  \n",
            "2  The data science workflow includes data collec...  \n",
            "3  Important skills include programming, statisti...  \n",
            "4  You can find all your course videos on the Cip...  \n"
          ]
        },
        {
          "output_type": "stream",
          "name": "stderr",
          "text": [
            "[nltk_data] Downloading package punkt to /root/nltk_data...\n",
            "[nltk_data]   Package punkt is already up-to-date!\n"
          ]
        }
      ]
    },
    {
      "cell_type": "markdown",
      "source": [
        "Vectorizing Data"
      ],
      "metadata": {
        "id": "n7vKPf8Yes-y"
      }
    },
    {
      "cell_type": "code",
      "source": [
        "from sklearn.feature_extraction.text import TfidfVectorizer\n",
        "\n",
        "vectorizer=TfidfVectorizer()\n",
        "x=vectorizer.fit_transform(data['Question'])\n",
        "print(x.shape)"
      ],
      "metadata": {
        "colab": {
          "base_uri": "https://localhost:8080/"
        },
        "id": "NDzt51biernW",
        "outputId": "020fa4b2-b8a3-431b-ce0e-357de0f47624"
      },
      "execution_count": 15,
      "outputs": [
        {
          "output_type": "stream",
          "name": "stdout",
          "text": [
            "(48, 112)\n"
          ]
        }
      ]
    },
    {
      "cell_type": "markdown",
      "source": [
        "Training a Text Classification Model"
      ],
      "metadata": {
        "id": "uWBJUCrwfKrZ"
      }
    },
    {
      "cell_type": "code",
      "source": [
        "from sklearn.naive_bayes import MultinomialNB\n",
        "from sklearn.pipeline import make_pipeline\n",
        "from sklearn.model_selection import train_test_split\n",
        "\n",
        "#Split the data into training and test sets\n",
        "x_train, x_test, y_train, y_test = train_test_split(data['Question'], data['Answer'], test_size=0.2, random_state=42)\n",
        "\n",
        "#create a model pipeline\n",
        "model=make_pipeline(TfidfVectorizer(),MultinomialNB())\n",
        "\n",
        "#Train the model\n",
        "model.fit(x_train, y_train)\n",
        "print(\"Model Training Complete\")"
      ],
      "metadata": {
        "colab": {
          "base_uri": "https://localhost:8080/"
        },
        "id": "D2KjRZJEfX7U",
        "outputId": "a277c17e-2001-4662-e8a8-5227153e5ba9"
      },
      "execution_count": 16,
      "outputs": [
        {
          "output_type": "stream",
          "name": "stdout",
          "text": [
            "Model Training Complete\n"
          ]
        }
      ]
    },
    {
      "cell_type": "markdown",
      "source": [
        "Implementing a Function to get Chatbot Responses"
      ],
      "metadata": {
        "id": "NZAbStIKhAqH"
      }
    },
    {
      "cell_type": "code",
      "source": [
        "#Function to get a response from the chatbot\n",
        "def get_response(question):\n",
        "  question=' '.join(nltk.word_tokenize(question.lower()))\n",
        "  answer=model.predict([question])[0]\n",
        "  return answer\n",
        "\n",
        "#Testing the function\n",
        "print(get_response(\"What is NLP?\"))"
      ],
      "metadata": {
        "colab": {
          "base_uri": "https://localhost:8080/"
        },
        "id": "lm-EDTZfhAMf",
        "outputId": "dce4f6f8-08d2-4b19-8563-4df0c3dd3dc6"
      },
      "execution_count": 17,
      "outputs": [
        {
          "output_type": "stream",
          "name": "stdout",
          "text": [
            "Seaborn is a Python visualization library based on Matplotlib that provides a high-level interface for drawing attractive statistical graphics. This is covered in the Introduction to Matplotlib and Seaborn module.\n"
          ]
        }
      ]
    }
  ]
}