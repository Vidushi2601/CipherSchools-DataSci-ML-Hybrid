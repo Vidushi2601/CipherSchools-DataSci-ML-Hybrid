{
  "nbformat": 4,
  "nbformat_minor": 0,
  "metadata": {
    "colab": {
      "provenance": [],
      "authorship_tag": "ABX9TyMDaMHVK8sniy8Wls9GdApz",
      "include_colab_link": true
    },
    "kernelspec": {
      "name": "python3",
      "display_name": "Python 3"
    },
    "language_info": {
      "name": "python"
    }
  },
  "cells": [
    {
      "cell_type": "markdown",
      "metadata": {
        "id": "view-in-github",
        "colab_type": "text"
      },
      "source": [
        "<a href=\"https://colab.research.google.com/github/Vidushi2601/CipherSchools-DataSci-ML-Hybrid/blob/main/cipher_lecture_23.ipynb\" target=\"_parent\"><img src=\"https://colab.research.google.com/assets/colab-badge.svg\" alt=\"Open In Colab\"/></a>"
      ]
    },
    {
      "cell_type": "markdown",
      "source": [
        "Descriptive Statistics - Mean"
      ],
      "metadata": {
        "id": "4Nn6qWIG_Fz_"
      }
    },
    {
      "cell_type": "code",
      "execution_count": 2,
      "metadata": {
        "colab": {
          "base_uri": "https://localhost:8080/"
        },
        "id": "Sl9S2Aao-jZQ",
        "outputId": "ba965ad4-af01-4b08-c32e-2ba2b4abd224"
      },
      "outputs": [
        {
          "output_type": "stream",
          "name": "stdout",
          "text": [
            "Mean Age: 39.5\n",
            "Mean_Salary: 325200.0\n"
          ]
        }
      ],
      "source": [
        "import pandas as pd\n",
        "#sample data\n",
        "data={\n",
        "    'Age': [25,30,35,50,28,40,50,60,32,45],\n",
        "    'Salary':[50000,1200000,70000,60000,80000,55000,85000,90000,1500000,62000]\n",
        "}\n",
        "\n",
        "df=pd.DataFrame(data)\n",
        "\n",
        "#mean\n",
        "mean_age=df['Age'].mean()\n",
        "mean_salary=df['Salary'].mean()\n",
        "\n",
        "print(\"Mean Age:\", mean_age)\n",
        "print(\"Mean_Salary:\",mean_salary)"
      ]
    },
    {
      "cell_type": "markdown",
      "source": [
        "Descriptive Statistics - Median"
      ],
      "metadata": {
        "id": "ObK2uu1BeeQx"
      }
    },
    {
      "cell_type": "code",
      "source": [
        "#Median\n",
        "median_age=df['Age'].median()\n",
        "median_salary=df['Salary'].median()\n",
        "print(\"Median age:\",median_age)\n",
        "print(\"Median Salary:\",median_salary)"
      ],
      "metadata": {
        "colab": {
          "base_uri": "https://localhost:8080/"
        },
        "id": "Iqj-Njdqeisc",
        "outputId": "daf37449-ff29-4bc7-e566-158333590320"
      },
      "execution_count": 3,
      "outputs": [
        {
          "output_type": "stream",
          "name": "stdout",
          "text": [
            "Median age: 37.5\n",
            "Median Salary: 75000.0\n"
          ]
        }
      ]
    },
    {
      "cell_type": "markdown",
      "source": [
        "Descriptive Statistics - Mode"
      ],
      "metadata": {
        "id": "5-UFyC7WlV30"
      }
    },
    {
      "cell_type": "code",
      "source": [
        "#Mode\n",
        "mode_age=df['Age'].mode()[0]\n",
        "mode_salary=df['Salary'].mode()[0]\n",
        "\n",
        "print(\"Mode age:\",mode_age)\n",
        "print(\"Mode Salary:\",mode_salary)"
      ],
      "metadata": {
        "colab": {
          "base_uri": "https://localhost:8080/"
        },
        "id": "66HWm6jhlYqi",
        "outputId": "17bd110b-82c4-4eae-96a4-11270094a7db"
      },
      "execution_count": 4,
      "outputs": [
        {
          "output_type": "stream",
          "name": "stdout",
          "text": [
            "Mode age: 50\n",
            "Mode Salary: 50000\n"
          ]
        }
      ]
    },
    {
      "cell_type": "markdown",
      "source": [
        "Standard Deviation"
      ],
      "metadata": {
        "id": "i99NNQ_fqBWw"
      }
    },
    {
      "cell_type": "code",
      "source": [
        "std_age=df['Age'].std()\n",
        "std_salary=df['Salary'].std()\n",
        "print(\"Standard Deviation Age:\",std_age)\n",
        "print(\"Standard Deviation Salary:\",std_salary)"
      ],
      "metadata": {
        "colab": {
          "base_uri": "https://localhost:8080/"
        },
        "id": "BsNl6Xi1qDlw",
        "outputId": "42b2f8a9-bcff-4519-d514-ef9a848d6f11"
      },
      "execution_count": 5,
      "outputs": [
        {
          "output_type": "stream",
          "name": "stdout",
          "text": [
            "Standard Deviation Age: 11.452801695072985\n",
            "Standard Deviation Salary: 544879.558557057\n"
          ]
        }
      ]
    },
    {
      "cell_type": "markdown",
      "source": [
        "Variance"
      ],
      "metadata": {
        "id": "44w85U1TrwM7"
      }
    },
    {
      "cell_type": "code",
      "source": [
        "var_age=df['Age'].var()\n",
        "var_salary=df['Salary'].var()\n",
        "print(\"Variance Age:\",var_age)\n",
        "print(\"Variance Salary:\",var_salary)"
      ],
      "metadata": {
        "colab": {
          "base_uri": "https://localhost:8080/"
        },
        "id": "Fked9yrRrx3Q",
        "outputId": "911112ba-46a2-4b6a-90fc-2f0b983b109f"
      },
      "execution_count": 6,
      "outputs": [
        {
          "output_type": "stream",
          "name": "stdout",
          "text": [
            "Variance Age: 131.16666666666666\n",
            "Variance Salary: 296893733333.3333\n"
          ]
        }
      ]
    },
    {
      "cell_type": "markdown",
      "source": [
        "Normal Distribution"
      ],
      "metadata": {
        "id": "0lA1V8m2xUkc"
      }
    },
    {
      "cell_type": "code",
      "source": [
        "import numpy as np\n",
        "import matplotlib.pyplot as plt\n",
        "import scipy.stats as stats\n",
        "\n",
        "#Normal Distribution\n",
        "mu, sigma=0,0.1\n",
        "s=np.random.normal(mu,sigma,1000)\n",
        "#Plotting the histogram\n",
        "count, bins,ignored=plt.hist(s,30,density=True)\n",
        "plt.plot(bins,1/(sigma*np.sqrt(2*np.pi))*np.exp(-(bins-mu)**2/(2*sigma**2)),linewidth=2,color=\"r\")\n",
        "plt.title(\"Normal Distrubitions\")\n",
        "plt.show()"
      ],
      "metadata": {
        "colab": {
          "base_uri": "https://localhost:8080/",
          "height": 452
        },
        "id": "nvVZ_faUx5YG",
        "outputId": "8ec70bba-92f5-4026-dd7b-406b722eaa49"
      },
      "execution_count": 7,
      "outputs": [
        {
          "output_type": "display_data",
          "data": {
            "text/plain": [
              "<Figure size 640x480 with 1 Axes>"
            ],
            "image/png": "[encoded data removed]"
          },
          "metadata": {}
        }
      ]
    },
    {
      "cell_type": "markdown",
      "source": [
        "Binomial Distribution"
      ],
      "metadata": {
        "id": "5XhGtGLNE_am"
      }
    },
    {
      "cell_type": "code",
      "source": [
        "n,p= 10,0.5\n",
        "binomial=np.random.binomial(n,p,1000)\n",
        "\n",
        "#plotting the histogram\n",
        "plt.hist(binomial,bins=10,density=True,alpha=0.6,color='b')\n",
        "plt.title(\"Binomial Distribution\")\n",
        "plt.show()"
      ],
      "metadata": {
        "colab": {
          "base_uri": "https://localhost:8080/",
          "height": 452
        },
        "id": "_M2gfiS8FCIA",
        "outputId": "d9016f5e-10e9-4909-dfaa-4ac3c223db26"
      },
      "execution_count": 9,
      "outputs": [
        {
          "output_type": "display_data",
          "data": {
            "text/plain": [
              "<Figure size 640x480 with 1 Axes>"
            ],
            "image/png": "[encoded data removed]"
          },
          "metadata": {}
        }
      ]
    },
    {
      "cell_type": "markdown",
      "source": [
        "Quartile"
      ],
      "metadata": {
        "id": "A6U_XM-RGJWW"
      }
    },
    {
      "cell_type": "markdown",
      "source": [
        "Quartiles identify the spread and presence of outliers\n",
        "\n",
        "Q1 : Median of lower half of dataset(25th percentile)\n",
        "\n",
        "Q2 : Median of 50th percentile\n",
        "\n",
        "Q3: Median of 73th percentile\n",
        "\n",
        "Q4(Interquartile Range): Q3-Q1"
      ],
      "metadata": {
        "id": "ln3Qu0dFGVOq"
      }
    },
    {
      "cell_type": "code",
      "source": [
        "import numpy as np\n",
        "\n",
        "#Sample data\n",
        "data=[1,2,3,4,5,6,7,8,9,10]\n",
        "#Calculating Quartiles\n",
        "Q1=np.percentile(data,25)\n",
        "Q2=np.median(data)\n",
        "Q3=np.percentile(data,75)\n",
        "IQR=Q3-Q1\n",
        "\n",
        "print(f\"Q1: {Q1}\")\n",
        "print(f\"Q2: {Q2}\")\n",
        "print(f\"Q3: {Q3}\")\n",
        "print(f\"IQR: {IQR}\")"
      ],
      "metadata": {
        "colab": {
          "base_uri": "https://localhost:8080/"
        },
        "id": "BDoBm-AJGKri",
        "outputId": "78cd2f25-2a82-4895-ded4-5e0f97ad25c8"
      },
      "execution_count": 11,
      "outputs": [
        {
          "output_type": "stream",
          "name": "stdout",
          "text": [
            "Q1: 3.25\n",
            "Q2: 5.5\n",
            "Q3: 7.75\n",
            "IQR: 4.5\n"
          ]
        }
      ]
    },
    {
      "cell_type": "markdown",
      "source": [
        "Z scores"
      ],
      "metadata": {
        "id": "pzJY-EsxJNau"
      }
    },
    {
      "cell_type": "code",
      "source": [
        "import numpy as np\n",
        "\n",
        "mean=np.mean(data)\n",
        "std_dev=np.std(data)\n",
        "\n",
        "z_scores=[(x-mean)/std_dev for x in data]\n",
        "\n",
        "print(f\"Mean: {mean}\")\n",
        "print(f\"Standard deviation: {std_dev}\")\n",
        "print(\"Z-scores: \",z_scores)"
      ],
      "metadata": {
        "colab": {
          "base_uri": "https://localhost:8080/"
        },
        "id": "04PiRjIHJGsU",
        "outputId": "2f3e19b7-2c85-4d21-8994-4bb4f381fd37"
      },
      "execution_count": 14,
      "outputs": [
        {
          "output_type": "stream",
          "name": "stdout",
          "text": [
            "Mean: 5.5\n",
            "Standard deviation: 2.8722813232690143\n",
            "Z-scores:  [-1.5666989036012806, -1.2185435916898848, -0.8703882797784892, -0.5222329678670935, -0.17407765595569785, 0.17407765595569785, 0.5222329678670935, 0.8703882797784892, 1.2185435916898848, 1.5666989036012806]\n"
          ]
        }
      ]
    }
  ]
}