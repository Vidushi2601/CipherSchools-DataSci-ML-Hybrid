{
  "nbformat": 4,
  "nbformat_minor": 0,
  "metadata": {
    "colab": {
      "provenance": [],
      "authorship_tag": "ABX9TyPcV+tsvS7v3nUA2+ATELsn",
      "include_colab_link": true
    },
    "kernelspec": {
      "name": "python3",
      "display_name": "Python 3"
    },
    "language_info": {
      "name": "python"
    }
  },
  "cells": [
    {
      "cell_type": "markdown",
      "metadata": {
        "id": "view-in-github",
        "colab_type": "text"
      },
      "source": [
        "<a href=\"https://colab.research.google.com/github/Vidushi2601/CipherSchools-DataSci-ML-Hybrid/blob/main/cipher_lecture_14.ipynb\" target=\"_parent\"><img src=\"https://colab.research.google.com/assets/colab-badge.svg\" alt=\"Open In Colab\"/></a>"
      ]
    },
    {
      "cell_type": "code",
      "execution_count": 1,
      "metadata": {
        "colab": {
          "base_uri": "https://localhost:8080/"
        },
        "id": "97PxZBcYfjdj",
        "outputId": "1b256eab-f03c-43ef-c07d-5b7095ee74a4"
      },
      "outputs": [
        {
          "output_type": "stream",
          "name": "stdout",
          "text": [
            "7\n"
          ]
        }
      ],
      "source": [
        "#Function\n",
        "def add_numbers(a,b):\n",
        "  \"\"\"Function to add numbers\"\"\"\n",
        "  return a+b\n",
        "\n",
        "#calling the function\n",
        "print(add_numbers(3,4))"
      ]
    },
    {
      "cell_type": "code",
      "source": [
        "#function with default arguments\n",
        "def greet(name,message=\"Hello\"):\n",
        "  \"\"\"function to greet a person with default message\"\"\"\n",
        "  return f\"{message},{name}!\""
      ],
      "metadata": {
        "id": "n-wOM48lgHmN"
      },
      "execution_count": 2,
      "outputs": []
    },
    {
      "cell_type": "code",
      "source": [
        "print(greet(\"Bob\"))\n",
        "print(greet(\"Alice\",\"Hi\"))"
      ],
      "metadata": {
        "colab": {
          "base_uri": "https://localhost:8080/"
        },
        "id": "eyjnP024gY2x",
        "outputId": "172e373a-81fe-42af-9843-54c83bfeecd4"
      },
      "execution_count": 3,
      "outputs": [
        {
          "output_type": "stream",
          "name": "stdout",
          "text": [
            "Hello,Bob!\n",
            "Hi,Alice!\n"
          ]
        }
      ]
    },
    {
      "cell_type": "code",
      "source": [
        "#Function with variable length arguments\n",
        "def sum_all(*args):\n",
        "  \"\"\"Function to sum all given arguments\"\"\"\n",
        "  return sum(args)\n",
        "print(sum_all(1,2,3,4,5))"
      ],
      "metadata": {
        "colab": {
          "base_uri": "https://localhost:8080/"
        },
        "id": "6JPwIrx-gh1c",
        "outputId": "753cda2b-28a9-4835-dad1-51086efe7f56"
      },
      "execution_count": 4,
      "outputs": [
        {
          "output_type": "stream",
          "name": "stdout",
          "text": [
            "15\n"
          ]
        }
      ]
    },
    {
      "cell_type": "code",
      "source": [
        "#Function with keyword arguments\n",
        "def display_info(**kwargs):\n",
        "  \"\"\"Function to display information using keyword arguments\"\"\"\n",
        "  for key,value in kwargs.items():\n",
        "    print(f\"{key}:{value}\")\n",
        "\n",
        "  #Calling the function\n",
        "display_info(name=\"John\",age=30,city=\"New York\")\n"
      ],
      "metadata": {
        "colab": {
          "base_uri": "https://localhost:8080/"
        },
        "id": "SK2XbHUKhUnH",
        "outputId": "ff84eeda-8267-4d3d-8545-06e4fb056689"
      },
      "execution_count": 6,
      "outputs": [
        {
          "output_type": "stream",
          "name": "stdout",
          "text": [
            "name:John\n",
            "age:30\n",
            "city:New York\n"
          ]
        }
      ]
    },
    {
      "cell_type": "code",
      "source": [
        "#High order Functions\n",
        "def apply_function(func,x,y):\n",
        "  \"\"\"Function to apply another function\"\"\"\n",
        "  return func(x,y)\n",
        "def multiply(a,b):\n",
        "  return a*b\n",
        "#calling the higher order function\n",
        "print(apply_function(multiply,6,7))"
      ],
      "metadata": {
        "colab": {
          "base_uri": "https://localhost:8080/"
        },
        "id": "e9cyxONtiSDx",
        "outputId": "01e2fb0e-de2e-4490-e2ad-9e615dd79cbb"
      },
      "execution_count": 7,
      "outputs": [
        {
          "output_type": "stream",
          "name": "stdout",
          "text": [
            "42\n"
          ]
        }
      ]
    },
    {
      "cell_type": "code",
      "source": [
        "#Simple lambda functions\n",
        "square=lambda x:x*x\n",
        "#calling the lambda function\n",
        "print(square(5))"
      ],
      "metadata": {
        "colab": {
          "base_uri": "https://localhost:8080/"
        },
        "id": "5rVavMfriykK",
        "outputId": "4eefa66c-4d2d-4723-d27f-9a75e323a14a"
      },
      "execution_count": 8,
      "outputs": [
        {
          "output_type": "stream",
          "name": "stdout",
          "text": [
            "25\n"
          ]
        }
      ]
    },
    {
      "cell_type": "code",
      "source": [
        "#Lambda function in map\n",
        "numbers=[1,2,3,4,5]\n",
        "squares=list(map(lambda x:x*x,numbers))\n",
        "\n",
        "#displaying the result\n",
        "print(squares)"
      ],
      "metadata": {
        "colab": {
          "base_uri": "https://localhost:8080/"
        },
        "id": "53CwYTvei8P-",
        "outputId": "d2ce0380-8535-425f-9ad1-d585ece853af"
      },
      "execution_count": 9,
      "outputs": [
        {
          "output_type": "stream",
          "name": "stdout",
          "text": [
            "[1, 4, 9, 16, 25]\n"
          ]
        }
      ]
    },
    {
      "cell_type": "code",
      "source": [
        "#lambda function in filter\n",
        "numbers=[1,2,3,4,5,6]\n",
        "even_numbers=list(filter(lambda x: x%2==0,numbers))\n",
        "#displaying the result\n",
        "print(even_numbers)"
      ],
      "metadata": {
        "colab": {
          "base_uri": "https://localhost:8080/"
        },
        "id": "F68mO5H5jWda",
        "outputId": "24ed1611-fc53-48a2-a442-f121898ff91f"
      },
      "execution_count": 10,
      "outputs": [
        {
          "output_type": "stream",
          "name": "stdout",
          "text": [
            "[2, 4, 6]\n"
          ]
        }
      ]
    },
    {
      "cell_type": "code",
      "source": [
        "# Lambda function in sorted\n",
        "students=[(\"Alice\",25),(\"Bob\",20),(\"Charlie\",23)]\n",
        "sorted_students=sorted(students,key=lambda student: student[1])\n",
        "\n",
        "print(sorted_students)"
      ],
      "metadata": {
        "colab": {
          "base_uri": "https://localhost:8080/"
        },
        "id": "vKUBMoAqjsOI",
        "outputId": "a4f4368b-cf06-4ada-f857-b68270542e0c"
      },
      "execution_count": 11,
      "outputs": [
        {
          "output_type": "stream",
          "name": "stdout",
          "text": [
            "[('Bob', 20), ('Charlie', 23), ('Alice', 25)]\n"
          ]
        }
      ]
    },
    {
      "cell_type": "markdown",
      "source": [
        "Error handling\n"
      ],
      "metadata": {
        "id": "CVydni4KkOE-"
      }
    },
    {
      "cell_type": "code",
      "source": [
        "#Basic try except block\n",
        "try:\n",
        "  result=10/0\n",
        "except ZeroDivisionError:\n",
        "  print(\"Cannot divide by zero\")"
      ],
      "metadata": {
        "colab": {
          "base_uri": "https://localhost:8080/"
        },
        "id": "0xCYvKo5kNGO",
        "outputId": "f0824f6a-9a1f-4e7e-aa87-f987ebc3e77f"
      },
      "execution_count": 12,
      "outputs": [
        {
          "output_type": "stream",
          "name": "stdout",
          "text": [
            "Cannot divide by zero\n"
          ]
        }
      ]
    },
    {
      "cell_type": "code",
      "source": [
        "#Try except else block\n",
        "try:\n",
        "  result=10/2\n",
        "except ZeroDivisionError:\n",
        "  print(\"Cannot divide by zero\")\n",
        "else:\n",
        "  print(\"Division succesful\")"
      ],
      "metadata": {
        "colab": {
          "base_uri": "https://localhost:8080/"
        },
        "id": "HsrVSlFDklKp",
        "outputId": "09019f5a-6d61-4988-be31-50c40878687a"
      },
      "execution_count": 13,
      "outputs": [
        {
          "output_type": "stream",
          "name": "stdout",
          "text": [
            "Division succesful\n"
          ]
        }
      ]
    },
    {
      "cell_type": "code",
      "source": [
        "#Try Except Finally Block\n",
        "try:\n",
        "  result=10/2\n",
        "except ZeroDivisionError:\n",
        "  print(\"Cannot divide by zero\")\n",
        "finally:\n",
        "  print(\"Execution completed\")\n"
      ],
      "metadata": {
        "colab": {
          "base_uri": "https://localhost:8080/"
        },
        "id": "9l271Utbk8Th",
        "outputId": "fca39e5d-547e-429c-dc2b-2acd034e100b"
      },
      "execution_count": 14,
      "outputs": [
        {
          "output_type": "stream",
          "name": "stdout",
          "text": [
            "Execution completed\n"
          ]
        }
      ]
    },
    {
      "cell_type": "code",
      "source": [
        "#Handling multiple exceptions\n",
        "try:\n",
        "  number=int(input(\"Enter a number: \"))\n",
        "  result=10/number\n",
        "except ValueError:\n",
        "  print(\"Invalid input. please enter a number\")\n",
        "except ZeroDivisionError:\n",
        "  print(\"Cannot divide by zero\")"
      ],
      "metadata": {
        "colab": {
          "base_uri": "https://localhost:8080/"
        },
        "id": "lod9xY-xlNtj",
        "outputId": "79f7dc8a-4b4b-4734-ef86-5bff051beed8"
      },
      "execution_count": 16,
      "outputs": [
        {
          "output_type": "stream",
          "name": "stdout",
          "text": [
            "Enter a number: 0\n",
            "Cannot divide by zero\n"
          ]
        }
      ]
    },
    {
      "cell_type": "code",
      "source": [
        "#Raising exceptions\n",
        "def check_positive(number):\n",
        "  if number<=0:\n",
        "    raise ValueError(\"Number must be positive\")\n",
        "\n",
        "try:\n",
        "  check_positive(-5)\n",
        "except ValueError as e:\n",
        "  print(e)"
      ],
      "metadata": {
        "colab": {
          "base_uri": "https://localhost:8080/"
        },
        "id": "ChL4xsi6lvNX",
        "outputId": "6544c9bd-ba1c-47a6-b61e-20a78db392bc"
      },
      "execution_count": 17,
      "outputs": [
        {
          "output_type": "stream",
          "name": "stdout",
          "text": [
            "Number must be positive\n"
          ]
        }
      ]
    }
  ]
}